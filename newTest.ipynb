{
 "cells": [
  {
   "cell_type": "code",
   "execution_count": 1,
   "metadata": {},
   "outputs": [
    {
     "name": "stdout",
     "output_type": "stream",
     "text": [
      "  Province/State Country/Region       Lat       Long  1/22/20  1/23/20  \\\n",
      "0            NaN    Afghanistan  33.93911  67.709953        0        0   \n",
      "1            NaN        Albania  41.15330  20.168300        0        0   \n",
      "2            NaN        Algeria  28.03390   1.659600        0        0   \n",
      "3            NaN        Andorra  42.50630   1.521800        0        0   \n",
      "4            NaN         Angola -11.20270  17.873900        0        0   \n",
      "\n",
      "   1/24/20  1/25/20  1/26/20  1/27/20  ...  2/28/23  3/1/23  3/2/23  3/3/23  \\\n",
      "0        0        0        0        0  ...   209322  209340  209358  209362   \n",
      "1        0        0        0        0  ...   334391  334408  334408  334427   \n",
      "2        0        0        0        0  ...   271441  271448  271463  271469   \n",
      "3        0        0        0        0  ...    47866   47875   47875   47875   \n",
      "4        0        0        0        0  ...   105255  105277  105277  105277   \n",
      "\n",
      "   3/4/23  3/5/23  3/6/23  3/7/23  3/8/23  3/9/23  \n",
      "0  209369  209390  209406  209436  209451  209451  \n",
      "1  334427  334427  334427  334427  334443  334457  \n",
      "2  271469  271477  271477  271490  271494  271496  \n",
      "3   47875   47875   47875   47875   47890   47890  \n",
      "4  105277  105277  105277  105277  105288  105288  \n",
      "\n",
      "[5 rows x 1147 columns]\n",
      "  Province/State Country/Region       Lat       Long  1/22/20  1/23/20  \\\n",
      "0            NaN    Afghanistan  33.93911  67.709953        0        0   \n",
      "1            NaN        Albania  41.15330  20.168300        0        0   \n",
      "2            NaN        Algeria  28.03390   1.659600        0        0   \n",
      "3            NaN        Andorra  42.50630   1.521800        0        0   \n",
      "4            NaN         Angola -11.20270  17.873900        0        0   \n",
      "\n",
      "   1/24/20  1/25/20  1/26/20  1/27/20  ...  2/28/23  3/1/23  3/2/23  3/3/23  \\\n",
      "0        0        0        0        0  ...     7896    7896    7896    7896   \n",
      "1        0        0        0        0  ...     3598    3598    3598    3598   \n",
      "2        0        0        0        0  ...     6881    6881    6881    6881   \n",
      "3        0        0        0        0  ...      165     165     165     165   \n",
      "4        0        0        0        0  ...     1933    1933    1933    1933   \n",
      "\n",
      "   3/4/23  3/5/23  3/6/23  3/7/23  3/8/23  3/9/23  \n",
      "0    7896    7896    7896    7896    7896    7896  \n",
      "1    3598    3598    3598    3598    3598    3598  \n",
      "2    6881    6881    6881    6881    6881    6881  \n",
      "3     165     165     165     165     165     165  \n",
      "4    1933    1933    1933    1933    1933    1933  \n",
      "\n",
      "[5 rows x 1147 columns]\n",
      "  Province/State Country/Region       Lat       Long  1/22/20  1/23/20  \\\n",
      "0            NaN    Afghanistan  33.93911  67.709953        0        0   \n",
      "1            NaN        Albania  41.15330  20.168300        0        0   \n",
      "2            NaN        Algeria  28.03390   1.659600        0        0   \n",
      "3            NaN        Andorra  42.50630   1.521800        0        0   \n",
      "4            NaN         Angola -11.20270  17.873900        0        0   \n",
      "\n",
      "   1/24/20  1/25/20  1/26/20  1/27/20  ...  2/28/23  3/1/23  3/2/23  3/3/23  \\\n",
      "0        0        0        0        0  ...        0       0       0       0   \n",
      "1        0        0        0        0  ...        0       0       0       0   \n",
      "2        0        0        0        0  ...        0       0       0       0   \n",
      "3        0        0        0        0  ...        0       0       0       0   \n",
      "4        0        0        0        0  ...        0       0       0       0   \n",
      "\n",
      "   3/4/23  3/5/23  3/6/23  3/7/23  3/8/23  3/9/23  \n",
      "0       0       0       0       0       0       0  \n",
      "1       0       0       0       0       0       0  \n",
      "2       0       0       0       0       0       0  \n",
      "3       0       0       0       0       0       0  \n",
      "4       0       0       0       0       0       0  \n",
      "\n",
      "[5 rows x 1147 columns]\n"
     ]
    }
   ],
   "source": [
    "import pandas as pd\n",
    "\n",
    "# Load the datasets\n",
    "confirmed_df = pd.read_csv(\"time_series_covid19_confirmed_global.csv\")\n",
    "deaths_df = pd.read_csv(\"time_series_covid19_deaths_global.csv\")\n",
    "recovered_df = pd.read_csv(\"time_series_covid19_recovered_global.csv\")\n",
    "\n",
    "# Inspect the data\n",
    "print(confirmed_df.head())\n",
    "print(deaths_df.head())\n",
    "print(recovered_df.head())\n"
   ]
  },
  {
   "cell_type": "code",
   "execution_count": 2,
   "metadata": {},
   "outputs": [
    {
     "name": "stdout",
     "output_type": "stream",
     "text": [
      "Confirmed DataFrame columns: Index(['Province/State', 'Country/Region', 'Lat', 'Long', 'Date', 'Confirmed'], dtype='object')\n",
      "Deaths DataFrame columns: Index(['Province/State', 'Country/Region', 'Lat', 'Long', 'Date', 'Deaths'], dtype='object')\n",
      "Recovered DataFrame columns: Index(['Province/State', 'Country/Region', 'Lat', 'Long', 'Date', 'Recovered'], dtype='object')\n"
     ]
    }
   ],
   "source": [
    "import pandas as pd\n",
    "\n",
    "\n",
    "def preprocess_time_series(df, value_name):\n",
    "    # Melt the DataFrame to long format\n",
    "    df_melted = pd.melt(\n",
    "        df,\n",
    "        id_vars=[\"Province/State\", \"Country/Region\", \"Lat\", \"Long\"],\n",
    "        var_name=\"Date\",\n",
    "        value_name=value_name,\n",
    "    )\n",
    "\n",
    "    # Convert 'Date' column to datetime\n",
    "    df_melted[\"Date\"] = pd.to_datetime(df_melted[\"Date\"], format=\"%m/%d/%y\")\n",
    "\n",
    "    # Sort by date\n",
    "    df_melted.sort_values(by=[\"Country/Region\", \"Province/State\", \"Date\"], inplace=True)\n",
    "\n",
    "    return df_melted\n",
    "\n",
    "\n",
    "# Load the datasets\n",
    "confirmed_df = pd.read_csv(\"time_series_covid19_confirmed_global.csv\")\n",
    "deaths_df = pd.read_csv(\"time_series_covid19_deaths_global.csv\")\n",
    "recovered_df = pd.read_csv(\"time_series_covid19_recovered_global.csv\")\n",
    "\n",
    "# Preprocess each DataFrame\n",
    "confirmed_df = preprocess_time_series(confirmed_df, \"Confirmed\")\n",
    "deaths_df = preprocess_time_series(deaths_df, \"Deaths\")\n",
    "recovered_df = preprocess_time_series(recovered_df, \"Recovered\")\n",
    "\n",
    "# Print columns to verify\n",
    "print(\"Confirmed DataFrame columns:\", confirmed_df.columns)\n",
    "print(\"Deaths DataFrame columns:\", deaths_df.columns)\n",
    "print(\"Recovered DataFrame columns:\", recovered_df.columns)\n"
   ]
  },
  {
   "cell_type": "code",
   "execution_count": 3,
   "metadata": {},
   "outputs": [
    {
     "name": "stdout",
     "output_type": "stream",
     "text": [
      "  Province/State Country/Region       Lat       Long       Date  Confirmed  \\\n",
      "0            NaN    Afghanistan  33.93911  67.709953 2020-01-22          0   \n",
      "1            NaN    Afghanistan  33.93911  67.709953 2020-01-23          0   \n",
      "2            NaN    Afghanistan  33.93911  67.709953 2020-01-24          0   \n",
      "3            NaN    Afghanistan  33.93911  67.709953 2020-01-25          0   \n",
      "4            NaN    Afghanistan  33.93911  67.709953 2020-01-26          0   \n",
      "\n",
      "   Deaths  Recovered  \n",
      "0       0        0.0  \n",
      "1       0        0.0  \n",
      "2       0        0.0  \n",
      "3       0        0.0  \n",
      "4       0        0.0  \n"
     ]
    }
   ],
   "source": [
    "def merge_in_chunks(df1, df2, chunk_size=5000):\n",
    "    merged_df = pd.DataFrame()\n",
    "    for start in range(0, len(df1), chunk_size):\n",
    "        end = start + chunk_size\n",
    "        chunk = df1.iloc[start:end]\n",
    "        try:\n",
    "            chunk = pd.merge(\n",
    "                chunk,\n",
    "                df2,\n",
    "                on=[\"Province/State\", \"Country/Region\", \"Lat\", \"Long\", \"Date\"],\n",
    "                how=\"left\",\n",
    "            )\n",
    "            merged_df = pd.concat([merged_df, chunk])\n",
    "        except KeyError as e:\n",
    "            print(f\"KeyError: {e}\")\n",
    "            print(f\"Columns in chunk: {chunk.columns}\")\n",
    "            print(f\"Columns in df2: {df2.columns}\")\n",
    "            break\n",
    "        except MemoryError:\n",
    "            print(f\"MemoryError at chunk {start}-{end}\")\n",
    "            break\n",
    "    return merged_df\n",
    "\n",
    "\n",
    "# Merge datasets\n",
    "merged_df = merge_in_chunks(confirmed_df, deaths_df, chunk_size=5000)\n",
    "merged_df = merge_in_chunks(merged_df, recovered_df, chunk_size=5000)\n",
    "\n",
    "# Check the merged DataFrame\n",
    "print(merged_df.head())\n"
   ]
  },
  {
   "cell_type": "code",
   "execution_count": 4,
   "metadata": {},
   "outputs": [],
   "source": [
    "# Feature Engineering\n",
    "merged_df[\"Daily_Confirmed\"] = (\n",
    "    merged_df.groupby([\"Country/Region\", \"Province/State\"])[\"Confirmed\"]\n",
    "    .diff()\n",
    "    .fillna(0)\n",
    ")\n",
    "merged_df[\"Daily_Deaths\"] = (\n",
    "    merged_df.groupby([\"Country/Region\", \"Province/State\"])[\"Deaths\"].diff().fillna(0)\n",
    ")\n",
    "merged_df[\"Daily_Recovered\"] = (\n",
    "    merged_df.groupby([\"Country/Region\", \"Province/State\"])[\"Recovered\"]\n",
    "    .diff()\n",
    "    .fillna(0)\n",
    ")\n"
   ]
  },
  {
   "cell_type": "code",
   "execution_count": 5,
   "metadata": {},
   "outputs": [],
   "source": [
    "import pandas as pd\n",
    "\n",
    "# Load the main population data\n",
    "population_df = pd.read_csv(\n",
    "    \"API_SP.POP.TOTL_DS2_en_csv_v2_87.csv\", skiprows=4\n",
    ")  # Skipping the first few rows to get to the data\n"
   ]
  },
  {
   "cell_type": "code",
   "execution_count": 6,
   "metadata": {},
   "outputs": [
    {
     "name": "stdout",
     "output_type": "stream",
     "text": [
      "  Country Code                     Region          IncomeGroup  \\\n",
      "0          ABW  Latin America & Caribbean          High income   \n",
      "1          AFE                        NaN                  NaN   \n",
      "2          AFG                 South Asia           Low income   \n",
      "3          AFW                        NaN                  NaN   \n",
      "4          AGO         Sub-Saharan Africa  Lower middle income   \n",
      "\n",
      "                                        SpecialNotes  \\\n",
      "0                                                NaN   \n",
      "1  26 countries, stretching from the Red Sea in t...   \n",
      "2  The reporting period for national accounts dat...   \n",
      "3  22 countries, stretching from the westernmost ...   \n",
      "4  The World Bank systematically assesses the app...   \n",
      "\n",
      "                     TableName  Unnamed: 5  \n",
      "0                        Aruba         NaN  \n",
      "1  Africa Eastern and Southern         NaN  \n",
      "2                  Afghanistan         NaN  \n",
      "3   Africa Western and Central         NaN  \n",
      "4                       Angola         NaN  \n"
     ]
    }
   ],
   "source": [
    "# Load country metadata\n",
    "country_metadata_df = pd.read_csv(\n",
    "    \"Metadata_Country_API_SP.POP.TOTL_DS2_en_csv_v2_87.csv\"\n",
    "    \n",
    ")\n",
    "print(country_metadata_df.head())\n"
   ]
  },
  {
   "cell_type": "code",
   "execution_count": 7,
   "metadata": {},
   "outputs": [
    {
     "name": "stdout",
     "output_type": "stream",
     "text": [
      "  Province/State Country/Region       Lat       Long       Date  Confirmed  \\\n",
      "0            NaN    Afghanistan  33.93911  67.709953 2020-01-22          0   \n",
      "1            NaN    Afghanistan  33.93911  67.709953 2020-01-23          0   \n",
      "2            NaN    Afghanistan  33.93911  67.709953 2020-01-24          0   \n",
      "3            NaN    Afghanistan  33.93911  67.709953 2020-01-25          0   \n",
      "4            NaN    Afghanistan  33.93911  67.709953 2020-01-26          0   \n",
      "\n",
      "   Deaths  Recovered  Daily_Confirmed  Daily_Deaths  Daily_Recovered  \\\n",
      "0       0        0.0              0.0           0.0              0.0   \n",
      "1       0        0.0              0.0           0.0              0.0   \n",
      "2       0        0.0              0.0           0.0              0.0   \n",
      "3       0        0.0              0.0           0.0              0.0   \n",
      "4       0        0.0              0.0           0.0              0.0   \n",
      "\n",
      "  Country Name  Population  \n",
      "0  Afghanistan  19542982.0  \n",
      "1  Afghanistan  19542982.0  \n",
      "2  Afghanistan  19542982.0  \n",
      "3  Afghanistan  19542982.0  \n",
      "4  Afghanistan  19542982.0  \n"
     ]
    }
   ],
   "source": [
    "# Clean column names\n",
    "population_df.columns = population_df.columns.str.strip()\n",
    "\n",
    "# Merge on the country name or country code\n",
    "merged_df = pd.merge(\n",
    "    merged_df,\n",
    "    population_df[[\"Country Name\", \"2000\"]],\n",
    "    how=\"left\",\n",
    "    left_on=\"Country/Region\",\n",
    "    right_on=\"Country Name\",\n",
    ")\n",
    "\n",
    "# Rename columns for clarity if needed\n",
    "merged_df.rename(columns={\"2000\": \"Population\"}, inplace=True)\n",
    "\n",
    "print(merged_df.head())\n"
   ]
  },
  {
   "cell_type": "code",
   "execution_count": 8,
   "metadata": {},
   "outputs": [],
   "source": [
    "merged_df.to_csv(\"merged_df_population.csv\", index=False)"
   ]
  },
  {
   "cell_type": "code",
   "execution_count": 9,
   "metadata": {},
   "outputs": [],
   "source": [
    "merged_df_with_population = pd.read_csv(\"merged_df_population.csv\",low_memory=False)"
   ]
  },
  {
   "cell_type": "code",
   "execution_count": 10,
   "metadata": {},
   "outputs": [
    {
     "data": {
      "text/plain": [
       "Index(['Province/State', 'Country/Region', 'Lat', 'Long', 'Date', 'Confirmed',\n",
       "       'Deaths', 'Recovered', 'Daily_Confirmed', 'Daily_Deaths',\n",
       "       'Daily_Recovered', 'Country Name', 'Population'],\n",
       "      dtype='object')"
      ]
     },
     "execution_count": 10,
     "metadata": {},
     "output_type": "execute_result"
    }
   ],
   "source": [
    "merged_df_with_population.columns"
   ]
  },
  {
   "cell_type": "code",
   "execution_count": 11,
   "metadata": {},
   "outputs": [
    {
     "name": "stdout",
     "output_type": "stream",
     "text": [
      "Hotspot\n",
      "False    316879\n",
      "True      13448\n",
      "Name: count, dtype: int64\n"
     ]
    }
   ],
   "source": [
    "# Define thresholds\n",
    "infection_percent_threshold = 0.1  # Set to 0.1% for now\n",
    "daily_cases_threshold = 100  # Set an absolute threshold for daily cases\n",
    "rolling_window = 7  # 7-day rolling window to smooth the data\n",
    "\n",
    "# Calculate infection rate\n",
    "merged_df_with_population[\"Infection_Rate\"] = (\n",
    "    merged_df_with_population[\"Daily_Confirmed\"]\n",
    "    / merged_df_with_population[\"Population\"]\n",
    ") * 100\n",
    "\n",
    "# Apply rolling averages for smoothing\n",
    "merged_df_with_population[\"Rolling_Daily_Confirmed\"] = (\n",
    "    merged_df_with_population[\"Daily_Confirmed\"].rolling(window=rolling_window).mean()\n",
    ")\n",
    "merged_df_with_population[\"Rolling_Infection_Rate\"] = (\n",
    "    merged_df_with_population[\"Infection_Rate\"].rolling(window=rolling_window).mean()\n",
    ")\n",
    "\n",
    "# Hotspot is True if either the infection rate or the absolute daily cases exceed the thresholds\n",
    "merged_df_with_population[\"Hotspot\"] = (\n",
    "    merged_df_with_population[\"Rolling_Infection_Rate\"] >= infection_percent_threshold\n",
    ") | (merged_df_with_population[\"Rolling_Daily_Confirmed\"] >= daily_cases_threshold)\n",
    "\n",
    "# Display the results\n",
    "print(merged_df_with_population[\"Hotspot\"].value_counts())\n"
   ]
  },
  {
   "cell_type": "code",
   "execution_count": 12,
   "metadata": {},
   "outputs": [],
   "source": [
    "merged_df_with_population.to_csv(\"merged_df_population_hotspots.csv\", index=False)"
   ]
  },
  {
   "cell_type": "code",
   "execution_count": 13,
   "metadata": {},
   "outputs": [
    {
     "data": {
      "text/plain": [
       "Index(['Province/State', 'Country/Region', 'Lat', 'Long', 'Date', 'Confirmed',\n",
       "       'Deaths', 'Recovered', 'Daily_Confirmed', 'Daily_Deaths',\n",
       "       'Daily_Recovered', 'Country Name', 'Population', 'Infection_Rate',\n",
       "       'Rolling_Daily_Confirmed', 'Rolling_Infection_Rate', 'Hotspot'],\n",
       "      dtype='object')"
      ]
     },
     "execution_count": 13,
     "metadata": {},
     "output_type": "execute_result"
    }
   ],
   "source": [
    "merged_df_with_population.columns"
   ]
  },
  {
   "cell_type": "code",
   "execution_count": 40,
   "metadata": {},
   "outputs": [],
   "source": [
    "# Remove rows with missing latitude or longitude values\n",
    "merged_df_with_population_clean = merged_df_with_population.dropna(\n",
    "    subset=[\"Lat\", \"Long\"]\n",
    ")\n"
   ]
  },
  {
   "cell_type": "code",
   "execution_count": 26,
   "metadata": {},
   "outputs": [
    {
     "data": {
      "image/png": "[encoded data removed]",
      "text/plain": [
       "<Figure size 1000x600 with 1 Axes>"
      ]
     },
     "metadata": {},
     "output_type": "display_data"
    }
   ],
   "source": [
    "import matplotlib.pyplot as plt\n",
    "import seaborn as sns\n",
    "\n",
    "# Plot the infection rates and hotspots over time\n",
    "plt.figure(figsize=(10, 6))\n",
    "sns.lineplot(x=\"Date\", y=\"Rolling_Infection_Rate\", hue=\"Hotspot\", data=merged_df_with_population)\n",
    "plt.title(\"Hotspots Over Time\")\n",
    "plt.show()\n"
   ]
  },
  {
   "cell_type": "code",
   "execution_count": 31,
   "metadata": {},
   "outputs": [
    {
     "name": "stdout",
     "output_type": "stream",
     "text": [
      "Accuracy: 0.9999596363232727\n"
     ]
    }
   ],
   "source": [
    "from sklearn.impute import SimpleImputer\n",
    "from sklearn.neighbors import KNeighborsClassifier\n",
    "from sklearn.model_selection import train_test_split\n",
    "from sklearn.preprocessing import StandardScaler\n",
    "\n",
    "# Define features (X) and target (y)\n",
    "X = merged_df_with_population[[\"Rolling_Infection_Rate\", \"Rolling_Daily_Confirmed\"]]\n",
    "y = merged_df_with_population[\"Hotspot\"]\n",
    "\n",
    "# Split the data into train and test sets\n",
    "X_train, X_test, y_train, y_test = train_test_split(\n",
    "    X, y, test_size=0.3, random_state=42\n",
    ")\n",
    "\n",
    "# Impute missing values in X_train and X_test\n",
    "imputer = SimpleImputer(strategy=\"mean\")\n",
    "X_train_imputed = imputer.fit_transform(X_train)\n",
    "X_test_imputed = imputer.transform(X_test)\n",
    "\n",
    "# Standardize the data\n",
    "scaler = StandardScaler()\n",
    "X_train_scaled = scaler.fit_transform(X_train_imputed)\n",
    "X_test_scaled = scaler.transform(X_test_imputed)\n",
    "\n",
    "# Train KNN model\n",
    "knn = KNeighborsClassifier(n_neighbors=5)\n",
    "knn.fit(X_train_scaled, y_train)\n",
    "\n",
    "# Evaluate the model\n",
    "accuracy = knn.score(X_test_scaled, y_test)\n",
    "print(\"Accuracy:\", accuracy)\n"
   ]
  },
  {
   "cell_type": "code",
   "execution_count": 32,
   "metadata": {},
   "outputs": [
    {
     "name": "stdout",
     "output_type": "stream",
     "text": [
      "Hotspot prediction: [ True]\n",
      "Hotspot prediction probabilities: [[0. 1.]]\n"
     ]
    },
    {
     "name": "stderr",
     "output_type": "stream",
     "text": [
      "c:\\Users\\emada\\anaconda3\\Lib\\site-packages\\sklearn\\base.py:493: UserWarning: X does not have valid feature names, but SimpleImputer was fitted with feature names\n",
      "  warnings.warn(\n"
     ]
    }
   ],
   "source": [
    "# New data (example)\n",
    "new_data = [[0.12, 150]]  # List of values corresponding to the two features\n",
    "\n",
    "# Impute missing values in the new data (if necessary)\n",
    "new_data_imputed = imputer.transform(new_data)\n",
    "\n",
    "# Scale the new data using the same scaler\n",
    "new_data_scaled = scaler.transform(new_data_imputed)\n",
    "\n",
    "# Predict whether the new area is a hotspot\n",
    "hotspot_prediction = knn.predict(new_data_scaled)\n",
    "\n",
    "# Print the prediction\n",
    "print(\"Hotspot prediction:\", hotspot_prediction)\n",
    "\n",
    "# Optionally, if you want to see probabilities:\n",
    "hotspot_probabilities = knn.predict_proba(new_data_scaled)\n",
    "print(\"Hotspot prediction probabilities:\", hotspot_probabilities)\n"
   ]
  },
  {
   "cell_type": "code",
   "execution_count": 41,
   "metadata": {},
   "outputs": [],
   "source": [
    "from sklearn.neighbors import KNeighborsClassifier\n",
    "from sklearn.model_selection import train_test_split\n",
    "from sklearn.preprocessing import StandardScaler\n",
    "\n",
    "# Features and target\n",
    "X = merged_df_with_population[\n",
    "    [\"Lat\", \"Long\", \"Infection_Rate\", \"Rolling_Daily_Confirmed\"]\n",
    "]\n",
    "y = merged_df_with_population[\"Hotspot\"]\n",
    "\n",
    "# Split the data into train and test sets\n",
    "X_train, X_test, y_train, y_test = train_test_split(\n",
    "    X, y, test_size=0.3, random_state=42\n",
    ")\n",
    "\n",
    "# Impute missing values in X_train and X_test\n",
    "imputer = SimpleImputer(strategy=\"mean\")\n",
    "X_train_imputed = imputer.fit_transform(X_train)\n",
    "X_test_imputed = imputer.transform(X_test)\n",
    "\n",
    "# Standardize the data\n",
    "scaler = StandardScaler()\n",
    "X_train_scaled = scaler.fit_transform(X_train_imputed)\n",
    "X_test_scaled = scaler.transform(X_test_imputed)\n",
    "\n",
    "# Train KNN model\n",
    "knn = KNeighborsClassifier(n_neighbors=5)\n",
    "knn.fit(X_train_scaled, y_train)\n",
    "\n",
    "# Predict probabilities\n",
    "hotspot_probabilities = knn.predict_proba(X_test_scaled)[:, 1]\n"
   ]
  },
  {
   "cell_type": "code",
   "execution_count": 42,
   "metadata": {},
   "outputs": [
    {
     "name": "stdout",
     "output_type": "stream",
     "text": [
      "Hotspot probability: 1.0\n"
     ]
    }
   ],
   "source": [
    "# Example new data with location\n",
    "new_locations = [\n",
    "    [34.0522, -118.2437, 0.15, 120]\n",
    "]  # Example values: [Lat, Long, Infection_Rate, Rolling_Daily_Confirmed]\n",
    "\n",
    "# Scale new data\n",
    "new_locations_scaled = scaler.transform(new_locations)\n",
    "\n",
    "# Predict hotspot probability\n",
    "probability = knn.predict_proba(new_locations_scaled)[:, 1]\n",
    "\n",
    "print(\"Hotspot probability:\", probability[0])\n"
   ]
  },
  {
   "cell_type": "code",
   "execution_count": 37,
   "metadata": {},
   "outputs": [
    {
     "name": "stdout",
     "output_type": "stream",
     "text": [
      "Missing latitude values: 2286\n",
      "Missing longitude values: 2286\n"
     ]
    }
   ],
   "source": [
    "# Check for missing values\n",
    "missing_lat = merged_df_with_population[\"Lat\"].isnull().sum()\n",
    "missing_long = merged_df_with_population[\"Long\"].isnull().sum()\n",
    "\n",
    "print(f\"Missing latitude values: {missing_lat}\")\n",
    "print(f\"Missing longitude values: {missing_long}\")\n"
   ]
  },
  {
   "cell_type": "code",
   "execution_count": 38,
   "metadata": {},
   "outputs": [],
   "source": [
    "# Remove rows with missing latitude or longitude values\n",
    "merged_df_with_population_clean = merged_df_with_population.dropna(\n",
    "    subset=[\"Lat\", \"Long\"]\n",
    ")\n"
   ]
  },
  {
   "cell_type": "code",
   "execution_count": 44,
   "metadata": {},
   "outputs": [],
   "source": [
    "import folium\n",
    "\n",
    "# Create a base map\n",
    "map_center = [\n",
    "    merged_df_with_population_clean[\"Lat\"].mean(),\n",
    "    merged_df_with_population_clean[\"Long\"].mean(),\n",
    "]\n",
    "m = folium.Map(location=map_center, zoom_start=10)\n",
    "\n",
    "# Add hotspot markers\n",
    "for _, row in merged_df_with_population_clean[\n",
    "    merged_df_with_population_clean[\"Hotspot\"]\n",
    "].iterrows():\n",
    "    folium.Marker(\n",
    "        location=[row[\"Lat\"], row[\"Long\"]],\n",
    "        popup=f\"Hotspot: {row['Infection_Rate']:.2f}%\",\n",
    "        icon=folium.Icon(color=\"red\"),\n",
    "    ).add_to(m)\n",
    "\n",
    "# Save map\n",
    "m.save(\"hotspot_map.html\")\n"
   ]
  },
  {
   "cell_type": "code",
   "execution_count": 45,
   "metadata": {},
   "outputs": [],
   "source": [
    "import pickle\n",
    "\n",
    "# Save the trained KNN model\n",
    "with open(\"knn_model1.pkl\", \"wb\") as model_file:\n",
    "    pickle.dump(knn, model_file)\n"
   ]
  },
  {
   "cell_type": "code",
   "execution_count": 46,
   "metadata": {},
   "outputs": [],
   "source": [
    "# Save the scaler\n",
    "with open(\"scaler1.pkl\", \"wb\") as scaler_file:\n",
    "    pickle.dump(scaler, scaler_file)\n"
   ]
  },
  {
   "cell_type": "code",
   "execution_count": 29,
   "metadata": {},
   "outputs": [
    {
     "name": "stdout",
     "output_type": "stream",
     "text": [
      "Accuracy: 1.0\n",
      "              precision    recall  f1-score   support\n",
      "\n",
      "       False       1.00      1.00      1.00     95124\n",
      "        True       1.00      1.00      1.00      3975\n",
      "\n",
      "    accuracy                           1.00     99099\n",
      "   macro avg       1.00      1.00      1.00     99099\n",
      "weighted avg       1.00      1.00      1.00     99099\n",
      "\n"
     ]
    }
   ],
   "source": [
    "import pandas as pd\n",
    "from sklearn.model_selection import train_test_split\n",
    "from sklearn.ensemble import RandomForestClassifier\n",
    "from sklearn.metrics import classification_report, accuracy_score\n",
    "from sklearn.impute import SimpleImputer\n",
    "\n",
    "# Load your dataset\n",
    "data = pd.read_csv(\"merged_df_population_hotspots.csv\",low_memory=False)\n",
    "\n",
    "# Handling missing values\n",
    "imputer = SimpleImputer(strategy=\"mean\")\n",
    "numeric_cols = [\n",
    "    \"Population\",\n",
    "    \"Infection_Rate\",\n",
    "    \"Rolling_Daily_Confirmed\",\n",
    "    \"Rolling_Infection_Rate\",\n",
    "]\n",
    "data[numeric_cols] = imputer.fit_transform(data[numeric_cols])\n",
    "\n",
    "# Selecting features and target\n",
    "X = data[\n",
    "    [\n",
    "        \"Infection_Rate\",\n",
    "        \"Rolling_Daily_Confirmed\",\n",
    "        \"Rolling_Infection_Rate\",\n",
    "        \"Population\",\n",
    "        \"Lat\",\n",
    "        \"Long\",\n",
    "    ]\n",
    "]\n",
    "y = data[\"Hotspot\"]\n",
    "\n",
    "# Splitting the data\n",
    "X_train, X_test, y_train, y_test = train_test_split(\n",
    "    X, y, test_size=0.3, random_state=42\n",
    ")\n",
    "\n",
    "# Training the RandomForest model\n",
    "model = RandomForestClassifier()\n",
    "model.fit(X_train, y_train)\n",
    "\n",
    "# Making predictions\n",
    "y_pred = model.predict(X_test)\n",
    "\n",
    "# Evaluating the model\n",
    "print(f\"Accuracy: {accuracy_score(y_test, y_pred)}\")\n",
    "print(classification_report(y_test, y_pred))\n"
   ]
  },
  {
   "cell_type": "code",
   "execution_count": 17,
   "metadata": {},
   "outputs": [],
   "source": [
    "from sklearn.impute import SimpleImputer\n",
    "\n",
    "# Assuming X is your feature set\n",
    "imputer = SimpleImputer(strategy=\"mean\")  # or strategy='median'\n",
    "X_imputed = imputer.fit_transform(X)\n"
   ]
  },
  {
   "cell_type": "code",
   "execution_count": 18,
   "metadata": {},
   "outputs": [],
   "source": [
    "from sklearn.preprocessing import StandardScaler\n",
    "\n",
    "scaler = StandardScaler()\n",
    "X_scaled = scaler.fit_transform(X_imputed)\n"
   ]
  },
  {
   "cell_type": "code",
   "execution_count": 19,
   "metadata": {},
   "outputs": [
    {
     "name": "stdout",
     "output_type": "stream",
     "text": [
      "              precision    recall  f1-score   support\n",
      "\n",
      "       False       1.00      1.00      1.00     95124\n",
      "        True       0.99      0.99      0.99      3975\n",
      "\n",
      "    accuracy                           1.00     99099\n",
      "   macro avg       1.00      0.99      1.00     99099\n",
      "weighted avg       1.00      1.00      1.00     99099\n",
      "\n"
     ]
    }
   ],
   "source": [
    "from sklearn.neighbors import KNeighborsClassifier\n",
    "from sklearn.model_selection import train_test_split\n",
    "from sklearn.metrics import classification_report\n",
    "\n",
    "# Assuming y is your target variable\n",
    "X_train, X_test, y_train, y_test = train_test_split(\n",
    "    X_scaled, y, test_size=0.3, random_state=42\n",
    ")\n",
    "\n",
    "knn_model = KNeighborsClassifier(n_neighbors=5)  # Adjust n_neighbors as needed\n",
    "knn_model.fit(X_train, y_train)\n",
    "\n",
    "y_pred = knn_model.predict(X_test)\n",
    "print(classification_report(y_test, y_pred))\n"
   ]
  },
  {
   "cell_type": "code",
   "execution_count": 20,
   "metadata": {},
   "outputs": [
    {
     "name": "stdout",
     "output_type": "stream",
     "text": [
      "Cross-validation scores: [0.87677474 0.8018648  0.92599712 0.97204269 0.96915159]\n",
      "Mean cross-validation score: 0.9091661889365252\n"
     ]
    }
   ],
   "source": [
    "from sklearn.model_selection import cross_val_score\n",
    "\n",
    "cv_scores = cross_val_score(knn_model, X_scaled, y, cv=5)\n",
    "print(\"Cross-validation scores:\", cv_scores)\n",
    "print(\"Mean cross-validation score:\", cv_scores.mean())\n"
   ]
  },
  {
   "cell_type": "code",
   "execution_count": 22,
   "metadata": {},
   "outputs": [
    {
     "name": "stderr",
     "output_type": "stream",
     "text": [
      "c:\\Users\\emada\\anaconda3\\Lib\\site-packages\\sklearn\\base.py:493: UserWarning: X does not have valid feature names, but RandomForestClassifier was fitted with feature names\n",
      "  warnings.warn(\n"
     ]
    },
    {
     "name": "stdout",
     "output_type": "stream",
     "text": [
      "ROC-AUC Score: 0.9222374396980413\n"
     ]
    },
    {
     "data": {
      "image/png": "[encoded data removed]",
      "text/plain": [
       "<Figure size 640x480 with 1 Axes>"
      ]
     },
     "metadata": {},
     "output_type": "display_data"
    }
   ],
   "source": [
    "import matplotlib.pyplot as plt\n",
    "from sklearn.metrics import roc_auc_score, roc_curve, precision_recall_curve\n",
    "\n",
    "# Predict probabilities\n",
    "y_prob = model.predict_proba(X_test)[:, 1]\n",
    "\n",
    "# ROC-AUC Score\n",
    "roc_auc = roc_auc_score(y_test, y_prob)\n",
    "print(f\"ROC-AUC Score: {roc_auc}\")\n",
    "\n",
    "# Precision-Recall Curve\n",
    "precision, recall, _ = precision_recall_curve(y_test, y_prob)\n",
    "plt.plot(recall, precision, marker=\".\")\n",
    "plt.xlabel(\"Recall\")\n",
    "plt.ylabel(\"Precision\")\n",
    "plt.title(\"Precision-Recall Curve\")\n",
    "plt.show()\n"
   ]
  },
  {
   "cell_type": "code",
   "execution_count": 34,
   "metadata": {},
   "outputs": [
    {
     "name": "stdout",
     "output_type": "stream",
     "text": [
      "Best parameters: {'n_neighbors': 11}\n",
      "Best cross-validation score: 0.9172036033154903\n"
     ]
    }
   ],
   "source": [
    "from sklearn.model_selection import GridSearchCV\n",
    "\n",
    "param_grid = {\"n_neighbors\": [3, 5, 7, 9, 11]}\n",
    "grid_search = GridSearchCV(KNeighborsClassifier(), param_grid, cv=5, scoring=\"accuracy\")\n",
    "grid_search.fit(X_scaled, y)\n",
    "\n",
    "print(\"Best parameters:\", grid_search.best_params_)\n",
    "print(\"Best cross-validation score:\", grid_search.best_score_)\n"
   ]
  },
  {
   "cell_type": "code",
   "execution_count": 23,
   "metadata": {},
   "outputs": [
    {
     "name": "stdout",
     "output_type": "stream",
     "text": [
      "                         importance\n",
      "Rolling_Daily_Confirmed    0.531762\n",
      "Rolling_Infection_Rate     0.336735\n",
      "Infection_Rate             0.105473\n",
      "Population                 0.012990\n",
      "Lat                        0.008051\n",
      "Long                       0.004990\n"
     ]
    }
   ],
   "source": [
    "import pandas as pd\n",
    "\n",
    "feature_importances = pd.DataFrame(\n",
    "    model.feature_importances_, index=X.columns, columns=[\"importance\"]\n",
    ").sort_values(\"importance\", ascending=False)\n",
    "print(feature_importances)\n"
   ]
  },
  {
   "cell_type": "code",
   "execution_count": 13,
   "metadata": {},
   "outputs": [
    {
     "data": {
      "text/plain": [
       "['scaler.pkl']"
      ]
     },
     "execution_count": 13,
     "metadata": {},
     "output_type": "execute_result"
    }
   ],
   "source": [
    "import pandas as pd\n",
    "from sklearn.model_selection import train_test_split\n",
    "from sklearn.preprocessing import StandardScaler\n",
    "from sklearn.neighbors import KNeighborsClassifier\n",
    "import joblib  # For saving the model\n",
    "\n",
    "# Load your dataset\n",
    "# merged_df_with_population = pd.read_csv('path_to_your_merged_data.csv')\n",
    "\n",
    "# Select features and target\n",
    "features = [\"Daily_Confirmed\", \"Infection_Rate\", \"Rolling_Daily_Confirmed\"]\n",
    "target = \"Hotspot\"\n",
    "\n",
    "# Drop rows with NaN values in selected columns\n",
    "df_model = merged_df_with_population.dropna(subset=features + [target])\n",
    "\n",
    "# Define X and y\n",
    "X = df_model[features]\n",
    "y = df_model[target]\n",
    "\n",
    "# Split the data into training and testing sets\n",
    "X_train, X_test, y_train, y_test = train_test_split(\n",
    "    X, y, test_size=0.2, random_state=42\n",
    ")\n",
    "\n",
    "# Standardize features\n",
    "scaler = StandardScaler()\n",
    "X_train_scaled = scaler.fit_transform(X_train)\n",
    "X_test_scaled = scaler.transform(X_test)\n",
    "\n",
    "# Initialize and train the KNN model\n",
    "knn = KNeighborsClassifier(n_neighbors=5)\n",
    "knn.fit(X_train_scaled, y_train)\n",
    "\n",
    "# Save the model and scaler for use in the Flask app\n",
    "joblib.dump(knn, \"knn_model.pkl\")\n",
    "joblib.dump(scaler, \"scaler.pkl\")\n"
   ]
  }
 ],
 "metadata": {
  "kernelspec": {
   "display_name": "base",
   "language": "python",
   "name": "python3"
  },
  "language_info": {
   "codemirror_mode": {
    "name": "ipython",
    "version": 3
   },
   "file_extension": ".py",
   "mimetype": "text/x-python",
   "name": "python",
   "nbconvert_exporter": "python",
   "pygments_lexer": "ipython3",
   "version": "3.11.5"
  }
 },
 "nbformat": 4,
 "nbformat_minor": 2
}
