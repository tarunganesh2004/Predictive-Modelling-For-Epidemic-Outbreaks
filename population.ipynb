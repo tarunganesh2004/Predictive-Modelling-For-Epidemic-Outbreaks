{
 "cells": [
  {
   "cell_type": "code",
   "execution_count": 1,
   "metadata": {},
   "outputs": [],
   "source": [
    "import pandas as pd\n",
    "\n",
    "# Load the main population data\n",
    "population_df = pd.read_csv(\n",
    "    \"API_SP.POP.TOTL_DS2_en_csv_v2_87.csv\", skiprows=4\n",
    ")  # Skipping the first few rows to get to the data\n"
   ]
  },
  {
   "cell_type": "code",
   "execution_count": 2,
   "metadata": {},
   "outputs": [
    {
     "name": "stdout",
     "output_type": "stream",
     "text": [
      "                  Country Name Country Code     Indicator Name Indicator Code  \\\n",
      "0                        Aruba          ABW  Population, total    SP.POP.TOTL   \n",
      "1  Africa Eastern and Southern          AFE  Population, total    SP.POP.TOTL   \n",
      "2                  Afghanistan          AFG  Population, total    SP.POP.TOTL   \n",
      "3   Africa Western and Central          AFW  Population, total    SP.POP.TOTL   \n",
      "4                       Angola          AGO  Population, total    SP.POP.TOTL   \n",
      "\n",
      "          1960         1961         1962         1963         1964  \\\n",
      "0      54608.0      55811.0      56682.0      57475.0      58178.0   \n",
      "1  130692579.0  134169237.0  137835590.0  141630546.0  145605995.0   \n",
      "2    8622466.0    8790140.0    8969047.0    9157465.0    9355514.0   \n",
      "3   97256290.0   99314028.0  101445032.0  103667517.0  105959979.0   \n",
      "4    5357195.0    5441333.0    5521400.0    5599827.0    5673199.0   \n",
      "\n",
      "          1965  ...         2015         2016         2017         2018  \\\n",
      "0      58782.0  ...     104257.0     104874.0     105439.0     105962.0   \n",
      "1  149742351.0  ...  600008424.0  616377605.0  632746570.0  649757148.0   \n",
      "2    9565147.0  ...   33753499.0   34636207.0   35643418.0   36686784.0   \n",
      "3  108336203.0  ...  408690375.0  419778384.0  431138704.0  442646825.0   \n",
      "4    5736582.0  ...   28127721.0   29154746.0   30208628.0   31273533.0   \n",
      "\n",
      "          2019         2020         2021         2022         2023  \\\n",
      "0     106442.0     106585.0     106537.0     106445.0     106277.0   \n",
      "1  667242986.0  685112979.0  702977106.0  720859132.0  739108306.0   \n",
      "2   37769499.0   38972230.0   40099462.0   41128771.0   42239854.0   \n",
      "3  454306063.0  466189102.0  478185907.0  490330870.0  502789511.0   \n",
      "4   32353588.0   33428486.0   34503774.0   35588987.0   36684202.0   \n",
      "\n",
      "   Unnamed: 68  \n",
      "0          NaN  \n",
      "1          NaN  \n",
      "2          NaN  \n",
      "3          NaN  \n",
      "4          NaN  \n",
      "\n",
      "[5 rows x 69 columns]\n"
     ]
    }
   ],
   "source": [
    "print(population_df.head())\n"
   ]
  },
  {
   "cell_type": "code",
   "execution_count": 3,
   "metadata": {},
   "outputs": [
    {
     "name": "stdout",
     "output_type": "stream",
     "text": [
      "  Country Code                     Region          IncomeGroup  \\\n",
      "0          ABW  Latin America & Caribbean          High income   \n",
      "1          AFE                        NaN                  NaN   \n",
      "2          AFG                 South Asia           Low income   \n",
      "3          AFW                        NaN                  NaN   \n",
      "4          AGO         Sub-Saharan Africa  Lower middle income   \n",
      "\n",
      "                                        SpecialNotes  \\\n",
      "0                                                NaN   \n",
      "1  26 countries, stretching from the Red Sea in t...   \n",
      "2  The reporting period for national accounts dat...   \n",
      "3  22 countries, stretching from the westernmost ...   \n",
      "4  The World Bank systematically assesses the app...   \n",
      "\n",
      "                     TableName  Unnamed: 5  \n",
      "0                        Aruba         NaN  \n",
      "1  Africa Eastern and Southern         NaN  \n",
      "2                  Afghanistan         NaN  \n",
      "3   Africa Western and Central         NaN  \n",
      "4                       Angola         NaN  \n"
     ]
    }
   ],
   "source": [
    "# Load country metadata\n",
    "country_metadata_df = pd.read_csv(\n",
    "    \"Metadata_Country_API_SP.POP.TOTL_DS2_en_csv_v2_87.csv\"\n",
    ")\n",
    "print(country_metadata_df.head())\n"
   ]
  },
  {
   "cell_type": "code",
   "execution_count": 4,
   "metadata": {},
   "outputs": [
    {
     "name": "stderr",
     "output_type": "stream",
     "text": [
      "C:\\Users\\emada\\AppData\\Local\\Temp\\ipykernel_2684\\1523063577.py:1: DtypeWarning: Columns (0) have mixed types. Specify dtype option on import or set low_memory=False.\n",
      "  merged_df=pd.read_csv(\"merged_df.csv\")\n"
     ]
    }
   ],
   "source": [
    "merged_df=pd.read_csv(\"merged_df.csv\")"
   ]
  },
  {
   "cell_type": "code",
   "execution_count": 5,
   "metadata": {},
   "outputs": [
    {
     "name": "stdout",
     "output_type": "stream",
     "text": [
      "  Province/State Country/Region       Lat       Long        Date  Confirmed  \\\n",
      "0            NaN    Afghanistan  33.93911  67.709953  2020-01-22          0   \n",
      "1            NaN    Afghanistan  33.93911  67.709953  2020-01-23          0   \n",
      "2            NaN    Afghanistan  33.93911  67.709953  2020-01-24          0   \n",
      "3            NaN    Afghanistan  33.93911  67.709953  2020-01-25          0   \n",
      "4            NaN    Afghanistan  33.93911  67.709953  2020-01-26          0   \n",
      "\n",
      "   Deaths  Recovered  Daily_Confirmed  Daily_Deaths  Daily_Recovered  Hotspot  \\\n",
      "0       0        0.0              0.0           0.0              0.0        0   \n",
      "1       0        0.0              0.0           0.0              0.0        0   \n",
      "2       0        0.0              0.0           0.0              0.0        0   \n",
      "3       0        0.0              0.0           0.0              0.0        0   \n",
      "4       0        0.0              0.0           0.0              0.0        0   \n",
      "\n",
      "  Country Name  Population  \n",
      "0  Afghanistan  19542982.0  \n",
      "1  Afghanistan  19542982.0  \n",
      "2  Afghanistan  19542982.0  \n",
      "3  Afghanistan  19542982.0  \n",
      "4  Afghanistan  19542982.0  \n"
     ]
    }
   ],
   "source": [
    "# Clean column names\n",
    "population_df.columns = population_df.columns.str.strip()\n",
    "\n",
    "# Merge on the country name or country code\n",
    "merged_df = pd.merge(\n",
    "    merged_df,\n",
    "    population_df[[\"Country Name\", \"2000\"]],\n",
    "    how=\"left\",\n",
    "    left_on=\"Country/Region\",\n",
    "    right_on=\"Country Name\",\n",
    ")\n",
    "\n",
    "# Rename columns for clarity if needed\n",
    "merged_df.rename(columns={\"2000\": \"Population\"}, inplace=True)\n",
    "\n",
    "print(merged_df.head())\n"
   ]
  },
  {
   "cell_type": "code",
   "execution_count": 6,
   "metadata": {},
   "outputs": [
    {
     "name": "stdout",
     "output_type": "stream",
     "text": [
      "Index(['Province/State', 'Country/Region', 'Lat', 'Long', 'Date', 'Confirmed',\n",
      "       'Deaths', 'Recovered', 'Daily_Confirmed', 'Daily_Deaths',\n",
      "       'Daily_Recovered', 'Hotspot', 'Country Name', 'Population'],\n",
      "      dtype='object')\n"
     ]
    }
   ],
   "source": [
    "print(merged_df.columns)"
   ]
  }
 ],
 "metadata": {
  "kernelspec": {
   "display_name": "base",
   "language": "python",
   "name": "python3"
  },
  "language_info": {
   "codemirror_mode": {
    "name": "ipython",
    "version": 3
   },
   "file_extension": ".py",
   "mimetype": "text/x-python",
   "name": "python",
   "nbconvert_exporter": "python",
   "pygments_lexer": "ipython3",
   "version": "3.11.5"
  }
 },
 "nbformat": 4,
 "nbformat_minor": 2
}
